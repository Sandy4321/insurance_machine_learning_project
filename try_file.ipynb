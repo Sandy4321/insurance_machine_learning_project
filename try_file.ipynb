{
 "cells": [
  {
   "cell_type": "code",
   "execution_count": 22,
   "metadata": {
    "collapsed": false
   },
   "outputs": [],
   "source": [
    "import numpy as np\n",
    "import pandas as pd\n",
    "from pandas import Series,DataFrame\n",
    "\n",
    "import math\n",
    "import cost\n",
    "import cost2\n",
    "\n",
    "import matplotlib.pyplot as plt\n",
    "import seaborn as sns\n",
    "sns.set_style('whitegrid')\n",
    "%matplotlib inline\n",
    "\n",
    "from sklearn.linear_model import LogisticRegression\n",
    "from sklearn.tree import DecisionTreeClassifier\n",
    "from sklearn.ensemble import RandomForestClassifier\n",
    "from sklearn.naive_bayes import GaussianNB\n",
    "from sklearn.svm import SVC\n",
    "from sklearn.cross_validation import train_test_split\n",
    "from sklearn import metrics\n",
    "\n",
    "train = pd.read_csv(\"./train.csv\")\n",
    "test = pd.read_csv(\"./test.csv\")\n",
    "target = train['target'].values    "
   ]
  },
  {
   "cell_type": "code",
   "execution_count": 23,
   "metadata": {
    "collapsed": false
   },
   "outputs": [],
   "source": [
    "drop_list = []\n",
    "train = train.drop(['ID','target'] + drop_list,axis=1).fillna(-999)\n",
    "test = test.drop(['ID'] + drop_list,axis=1).fillna(-999)\n",
    " \n",
    "refcols=list(train.columns)\n",
    " \n",
    "# for elt in refcols:\n",
    "#     if train[elt].dtype == 'O':\n",
    "#         train[elt], temp = pd.factorize(train[elt])\n",
    "#         test[elt] = temp.get_indexer(test[elt])\n",
    "#     else:\n",
    "#         train[elt] = train[elt].round(5)\n",
    "#         test[elt] = test[elt].round(5)\n",
    "\n",
    "for elt in refcols:\n",
    "    if train[elt].dtype == 'O':\n",
    "        train = train.drop(elt,axis=1)\n",
    "        test = test.drop(elt,axis=1) \n",
    "    else:\n",
    "        train[elt] = train[elt].round(5)\n",
    "        test[elt] = test[elt].round(5)\n",
    "        \n",
    "X = train\n",
    "y = np.ravel(target)        \n",
    "X_train, X_test, y_train, y_test = train_test_split(X, y)\n",
    "\n",
    "# Decision trees \n",
    "tree_model = DecisionTreeClassifier(max_depth=4,random_state=0)\n",
    "tree_model.fit(X_train, y_train)\n",
    " \n",
    "pred_tree = tree_model.predict_proba(X_test)\n",
    " \n",
    "PredictedProb = pred_tree[:,1]"
   ]
  },
  {
   "cell_type": "code",
   "execution_count": null,
   "metadata": {
    "collapsed": false
   },
   "outputs": [],
   "source": []
  }
 ],
 "metadata": {
  "kernelspec": {
   "display_name": "Python 2",
   "language": "python",
   "name": "python2"
  },
  "language_info": {
   "codemirror_mode": {
    "name": "ipython",
    "version": 2
   },
   "file_extension": ".py",
   "mimetype": "text/x-python",
   "name": "python",
   "nbconvert_exporter": "python",
   "pygments_lexer": "ipython2",
   "version": "2.7.12"
  }
 },
 "nbformat": 4,
 "nbformat_minor": 0
}
