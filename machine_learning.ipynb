{
 "cells": [
  {
   "cell_type": "code",
   "execution_count": 1,
   "metadata": {
    "collapsed": false
   },
   "outputs": [
    {
     "name": "stderr",
     "output_type": "stream",
     "text": [
      "/Users/WANN-JIUN/anaconda/lib/python2.7/site-packages/IPython/html.py:14: ShimWarning: The `IPython.html` package has been deprecated. You should import from `notebook` instead. `IPython.html.widgets` has moved to `ipywidgets`.\n",
      "  \"`IPython.html.widgets` has moved to `ipywidgets`.\", ShimWarning)\n"
     ]
    }
   ],
   "source": [
    "import numpy as np\n",
    "import pandas as pd\n",
    "from pandas import Series,DataFrame\n",
    "\n",
    "import math\n",
    "import cost\n",
    "import cost2\n",
    "\n",
    "import matplotlib.pyplot as plt\n",
    "import seaborn as sns\n",
    "sns.set_style('whitegrid')\n",
    "%matplotlib inline\n",
    "\n",
    "from sklearn.linear_model import LogisticRegression\n",
    "from sklearn.tree import DecisionTreeClassifier\n",
    "from sklearn.ensemble import RandomForestClassifier\n",
    "from sklearn.naive_bayes import GaussianNB\n",
    "from sklearn.svm import SVC\n",
    "from sklearn.cross_validation import train_test_split\n",
    "from sklearn import metrics\n",
    "\n",
    "train = pd.read_csv(\"./train.csv\")\n",
    "test = pd.read_csv(\"./test.csv\")\n",
    "target = train['target'].values "
   ]
  },
  {
   "cell_type": "code",
   "execution_count": 2,
   "metadata": {
    "collapsed": false
   },
   "outputs": [
    {
     "name": "stdout",
     "output_type": "stream",
     "text": [
      "Cost of logistic regression (trainning set): 0.53\n",
      "Cost of logistic regression (test set): 0.53\n",
      "Accuracy of logistic regression: 0.76\n",
      "Cost of decision tree (trainning set): 0.50\n",
      "Cost of decision tree (test set): 0.50\n",
      "Accuracy of decision tree: 0.76\n"
     ]
    },
    {
     "data": {
      "text/plain": [
       "<matplotlib.axes._subplots.AxesSubplot at 0x10e590ad0>"
      ]
     },
     "execution_count": 2,
     "metadata": {},
     "output_type": "execute_result"
    },
    {
     "data": {
      "image/png": "[encoded data removed]",
      "text/plain": [
       "<matplotlib.figure.Figure at 0x10e5257d0>"
      ]
     },
     "metadata": {},
     "output_type": "display_data"
    }
   ],
   "source": [
    "# train['v22-1']=train['v22'].fillna('@@@@').apply(lambda x:'@'*(4-len(str(x)))+str(x)).apply(lambda x:ord(x[0]))\n",
    "# test['v22-1']=test['v22'].fillna('@@@@').apply(lambda x:'@'*(4-len(str(x)))+str(x)).apply(lambda x:ord(x[0]))\n",
    "# train['v22-2']=train['v22'].fillna('@@@@').apply(lambda x:'@'*(4-len(str(x)))+str(x)).apply(lambda x:ord(x[1]))\n",
    "# test['v22-2']=test['v22'].fillna('@@@@').apply(lambda x:'@'*(4-len(str(x)))+str(x)).apply(lambda x:ord(x[1]))\n",
    "# train['v22-3']=train['v22'].fillna('@@@@').apply(lambda x:'@'*(4-len(str(x)))+str(x)).apply(lambda x:ord(x[2]))\n",
    "# test['v22-3']=test['v22'].fillna('@@@@').apply(lambda x:'@'*(4-len(str(x)))+str(x)).apply(lambda x:ord(x[2]))\n",
    "# train['v22-4']=train['v22'].fillna('@@@@').apply(lambda x:'@'*(4-len(str(x)))+str(x)).apply(lambda x:ord(x[3]))\n",
    "# test['v22-4']=test['v22'].fillna('@@@@').apply(lambda x:'@'*(4-len(str(x)))+str(x)).apply(lambda x:ord(x[3]))\n",
    "\n",
    "# drop_list=['v91','v1', 'v8', 'v10', 'v15', 'v17', 'v25', 'v29', 'v34',\\\n",
    "#            'v41', 'v46', 'v54', 'v64', 'v67','v97', 'v105', 'v111', 'v122']\n",
    "drop_list = []\n",
    "train = train.drop(['ID','target'] + drop_list,axis=1).fillna(-999)\n",
    "test = test.drop(['ID'] + drop_list,axis=1).fillna(-999)\n",
    " \n",
    "refcols=list(train.columns)\n",
    " \n",
    "# for elt in refcols:\n",
    "#     if train[elt].dtype == 'O':\n",
    "#         train[elt], temp = pd.factorize(train[elt])\n",
    "#         test[elt] = temp.get_indexer(test[elt])\n",
    "#     else:\n",
    "#         train[elt] = train[elt].round(5)\n",
    "#         test[elt] = test[elt].round(5)\n",
    "\n",
    "for elt in refcols:\n",
    "    if train[elt].dtype == 'O':\n",
    "        train = train.drop(elt,axis=1)\n",
    "        test = test.drop(elt,axis=1) \n",
    "    else:\n",
    "        train[elt] = train[elt].round(5)\n",
    "        test[elt] = test[elt].round(5)\n",
    "        \n",
    "X = train\n",
    "y = np.ravel(target)        \n",
    "X_train, X_test, y_train, y_test = train_test_split(X, y)\n",
    "\n",
    "# Logistic regression\n",
    "log_model = LogisticRegression()\n",
    "log_model.fit(X_train, y_train)\n",
    "y_pred_log = log_model.predict(X_test)\n",
    "theta = np.transpose(log_model.coef_)\n",
    "cost_train_log = cost.valuee(X_train,y_train,theta)\n",
    "cost_test_log = cost.valuee(X_test,y_test,theta)\n",
    "print \"Cost of logistic regression (trainning set): %.2f\" %cost_train_log\n",
    "print \"Cost of logistic regression (test set): %.2f\" %cost_test_log\n",
    "print \"Accuracy of logistic regression: %.2f\" %metrics.accuracy_score(y_test,y_pred_log)\n",
    "\n",
    "pred_log = log_model.predict_proba(test)\n",
    "submission = pd.read_csv('./sample_submission.csv')\n",
    "submission.index = submission.ID\n",
    "submission.PredictedProb = pred_log[:,1]\n",
    "submission.PredictedProb.hist(bins=30)\n",
    "\n",
    "# Decision trees \n",
    "tree_model = DecisionTreeClassifier(max_depth=4,random_state=0)\n",
    "tree_model.fit(X_train, y_train)\n",
    "y_pred_tree = tree_model.predict(X_test)\n",
    "p_train_tree = tree_model.predict_proba(X_train) \n",
    "p_test_tree = tree_model.predict_proba(X_test) \n",
    "cost_train_tree = cost2.valuee(X_train,p_train_tree[:,1],y_train)\n",
    "cost_test_tree = cost2.valuee(X_test,p_test_tree[:,1],y_test)\n",
    "print \"Cost of decision tree (trainning set): %.2f\" %cost_train_tree\n",
    "print \"Cost of decision tree (test set): %.2f\" %cost_test_tree\n",
    "print \"Accuracy of decision tree: %.2f\" %metrics.accuracy_score(y_test,y_pred_tree)\n",
    "\n",
    "pred_tree = tree_model.predict_proba(test)\n",
    "submission = pd.read_csv('./sample_submission.csv')\n",
    "submission.index = submission.ID\n",
    "submission.PredictedProb = pred_tree[:,1]\n",
    "submission.PredictedProb.hist(bins=30)\n",
    "\n",
    "# # Random forests\n",
    "# forest_model = RandomForestClassifier(n_estimators=100,random_state=0)\n",
    "# forest_model.fit(X_train, y_train)\n",
    "# y_pred_forest = forest_model.predict(X_test)\n",
    "# p_train_forest = forest_model.predict_proba(X_train) \n",
    "# p_test_forest = forest_model.predict_proba(X_test) \n",
    "# cost_train_forest = cost2.valuee(X_train,p_train_forest[:,1],y_train)\n",
    "# cost_test_forest = cost2.valuee(X_test,p_test_forest[:,1],y_test)\n",
    "# print \"Cost of random forest (trainning set): %.2f\" %cost_train_forest\n",
    "# print \"Cost of random forest (test set): %.2f\" %cost_test_forest\n",
    "# print \"Accuracy of random forest: %.2f\" %metrics.accuracy_score(y_test,y_pred_forest)\n",
    "# pred_forest = forest_model.predict_proba(test)\n",
    "# submission = pd.read_csv('./sample_submission.csv')\n",
    "# submission.index = submission.ID\n",
    "# submission.PredictedProb = pred_forest[:,1]\n",
    "# submission.PredictedProb.hist(bins=30)\n",
    "\n",
    "# # Naive Bayes\n",
    "# naive_model = GaussianNB()\n",
    "# naive_model.fit(X_train, y_train)\n",
    "# y_pred_naive = naive_model.predict(X_test)\n",
    "# print \"Accuracy of naive Bayes: %.2f\" %metrics.accuracy_score(y_test,y_pred_naive)\n",
    "# pred_naive = naive_model.predict_proba(test)\n",
    "# submission = pd.read_csv('./sample_submission.csv')\n",
    "# submission.index = submission.ID\n",
    "# submission.PredictedProb = pred_naive[:,1]\n",
    "# submission.PredictedProb.hist(bins=30)\n",
    "\n",
    "# # SVM\n",
    "# svm_model = SVC()\n",
    "# svm_model.fit(X_train, y_train)\n",
    "# y_pred_svm = svm_model.predict(X_test)\n",
    "# print \"Accuracy of SVM: %.2f\" %metrics.accuracy_score(y_test,y_pred_svm)\n",
    "# pred_svm = svm_model.predict_proba(test)\n",
    "# submission = pd.read_csv('./sample_submission.csv')\n",
    "# submission.index = submission.ID\n",
    "# submission.PredictedProb = pred_svm[:,1]\n",
    "# submission.PredictedProb.hist(bins=30)\n",
    "\n",
    "# submission = pd.read_csv('./sample_submission.csv')\n",
    "# submission.index = submission.ID\n",
    "# submission.PredictedProb = pred_svm[:,1]\n",
    "# submission.to_csv('./machine_learning_results.csv', index=False)\n",
    "# submission.PredictedProb.hist(bins=30)"
   ]
  },
  {
   "cell_type": "code",
   "execution_count": null,
   "metadata": {
    "collapsed": true
   },
   "outputs": [],
   "source": []
  }
 ],
 "metadata": {
  "kernelspec": {
   "display_name": "Python 2",
   "language": "python",
   "name": "python2"
  },
  "language_info": {
   "codemirror_mode": {
    "name": "ipython",
    "version": 2
   },
   "file_extension": ".py",
   "mimetype": "text/x-python",
   "name": "python",
   "nbconvert_exporter": "python",
   "pygments_lexer": "ipython2",
   "version": "2.7.12"
  }
 },
 "nbformat": 4,
 "nbformat_minor": 0
}
